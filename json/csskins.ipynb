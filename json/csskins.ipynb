{
 "cells": [
  {
   "cell_type": "markdown",
   "id": "7aaa6130-79f0-4751-be7d-a2603c01543c",
   "metadata": {},
   "source": [
    "We imported pandas and read the Json file."
   ]
  },
  {
   "cell_type": "code",
   "execution_count": null,
   "id": "e771eaf8-08d0-4554-b302-5d74a628415c",
   "metadata": {},
   "outputs": [],
   "source": [
    "import pandas as pd"
   ]
  },
  {
   "cell_type": "code",
   "execution_count": null,
   "id": "98e77dc3-ae18-42c3-a4bb-95c9d2070eb4",
   "metadata": {},
   "outputs": [],
   "source": [
    "df = pd.read_json('csskins.json')"
   ]
  },
  {
   "cell_type": "markdown",
   "id": "b96db655-b05d-4187-bb03-66421d001819",
   "metadata": {},
   "source": [
    "Then we check our data. df = dataframe"
   ]
  },
  {
   "cell_type": "code",
   "execution_count": null,
   "id": "80291f34-230e-45cd-b194-bf98de699888",
   "metadata": {},
   "outputs": [],
   "source": [
    "df"
   ]
  },
  {
   "cell_type": "markdown",
   "id": "40881aed-e11e-4f4a-b871-a92fb82f9ea1",
   "metadata": {},
   "source": [
    "Now we will try to check one of the columns "
   ]
  },
  {
   "cell_type": "code",
   "execution_count": null,
   "id": "bc089d91-b551-478a-af19-dc8da738dc9c",
   "metadata": {},
   "outputs": [],
   "source": [
    "df['weapon']"
   ]
  },
  {
   "cell_type": "markdown",
   "id": "1f51bf0b-c804-436a-816a-1b8155eceebc",
   "metadata": {},
   "source": [
    "We can see that there is more weapons with the same name in a row. And we will try to find all the unique weapon names"
   ]
  },
  {
   "cell_type": "code",
   "execution_count": null,
   "id": "8b5e7f2a-fe94-495f-abb5-37bbc0028356",
   "metadata": {},
   "outputs": [],
   "source": [
    "unique_weapons = df['weapon'].unique()"
   ]
  },
  {
   "cell_type": "code",
   "execution_count": null,
   "id": "c500a15c-25b4-4a38-b42a-4d9119400e35",
   "metadata": {},
   "outputs": [],
   "source": [
    "print(unique_weapons)"
   ]
  },
  {
   "cell_type": "markdown",
   "id": "2f544c1e-ae7f-409f-bb21-9e68c5f64639",
   "metadata": {},
   "source": [
    "We will now check the data's info, to see what types each column holds"
   ]
  },
  {
   "cell_type": "code",
   "execution_count": null,
   "id": "0b689ba1-a27b-4d1b-a244-df651d557d8d",
   "metadata": {},
   "outputs": [],
   "source": [
    "df.info()"
   ]
  },
  {
   "cell_type": "markdown",
   "id": "fe38b3cd-b0be-4987-a498-c05208d5154d",
   "metadata": {},
   "source": [
    "There is none null values in our dataset, so that is less cleaning"
   ]
  },
  {
   "cell_type": "code",
   "execution_count": null,
   "id": "ba360520-e5ea-4dd4-9bd6-82cb7c799884",
   "metadata": {},
   "outputs": [],
   "source": [
    "df.isna().sum()"
   ]
  },
  {
   "cell_type": "markdown",
   "id": "e23f3833-dd0b-4dac-a4c5-e9e2c7d9ebf7",
   "metadata": {},
   "source": [
    "Filters the DataFrame to return skins that match the given rarity.\n",
    "The search is case-insensitive."
   ]
  },
  {
   "cell_type": "code",
   "execution_count": null,
   "id": "eb7dfaa9-ed88-4656-8e57-de0f3a7877c3",
   "metadata": {},
   "outputs": [],
   "source": [
    "def filter_by_rarity(df, rarity_name):\n",
    "    return df[df['rarity'].str.lower() == rarity_name.lower()]"
   ]
  },
  {
   "cell_type": "markdown",
   "id": "d7d51243-33b9-4113-8421-7ccb2cf1681f",
   "metadata": {},
   "source": [
    " Show only name and rarity for readability"
   ]
  },
  {
   "cell_type": "code",
   "execution_count": null,
   "id": "9b07172d-c66e-4114-8d22-0dd827086e64",
   "metadata": {},
   "outputs": [],
   "source": [
    "rare_skins = filter_by_rarity(df, \"Begrænset\")\n",
    "print(rare_skins[['name', 'weapon', 'rarity']])"
   ]
  },
  {
   "cell_type": "code",
   "execution_count": null,
   "id": "7cc10918-17ee-4b9d-8d59-96a120a35ec6",
   "metadata": {},
   "outputs": [],
   "source": [
    "def filter_by_weapon(df, weapon_name):\n",
    "    \"\"\"\n",
    "    Filters the DataFrame to include only the skins for the given weapon type,\n",
    "    and removes the weapon name from the skin name.\n",
    "    \"\"\"\n",
    "    filtered_df = df[df['weapon'].str.lower() == weapon_name.lower()].copy()\n",
    "    prefix = f\"{weapon_name} | \"\n",
    "    new_column = f\"{weapon_name.lower().replace(' ', '_')}_skin\"\n",
    "    filtered_df[new_column] = filtered_df['name'].str.replace(prefix, \"\", regex=False).str.strip()\n",
    "    return filtered_df"
   ]
  },
  {
   "cell_type": "code",
   "execution_count": null,
   "id": "d5d13719",
   "metadata": {},
   "outputs": [],
   "source": [
    "# Example: Show all skins for \"Desert Eagle\" without the weapon prefix in the skin name\n",
    "deagle_skins = filter_by_weapon(df, \"Desert Eagle\")\n",
    "\n",
    "# Show only relevant columns: clean skin name, weapon, and rarity\n",
    "print(deagle_skins[['desert_eagle_skin', 'weapon', 'rarity']])"
   ]
  }
 ],
 "metadata": {
  "kernelspec": {
   "display_name": "Python 3",
   "language": "python",
   "name": "python3"
  },
  "language_info": {
   "codemirror_mode": {
    "name": "ipython",
    "version": 3
   },
   "file_extension": ".py",
   "mimetype": "text/x-python",
   "name": "python",
   "nbconvert_exporter": "python",
   "pygments_lexer": "ipython3",
   "version": "3.12.6"
  }
 },
 "nbformat": 4,
 "nbformat_minor": 5
}
