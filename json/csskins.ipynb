{
 "cells": [
  {
   "cell_type": "markdown",
   "id": "7aaa6130-79f0-4751-be7d-a2603c01543c",
   "metadata": {},
   "source": [
    "We imported pandas and read the Json file."
   ]
  },
  {
   "cell_type": "code",
   "execution_count": 1,
   "id": "e771eaf8-08d0-4554-b302-5d74a628415c",
   "metadata": {},
   "outputs": [],
   "source": [
    "import pandas as pd"
   ]
  },
  {
   "cell_type": "code",
   "execution_count": 4,
   "id": "98e77dc3-ae18-42c3-a4bb-95c9d2070eb4",
   "metadata": {},
   "outputs": [],
   "source": [
    "df = pd.read_json('csskins.json')"
   ]
  },
  {
   "cell_type": "markdown",
   "id": "b96db655-b05d-4187-bb03-66421d001819",
   "metadata": {},
   "source": [
    "Then we check our data. df = dataframe"
   ]
  },
  {
   "cell_type": "code",
   "execution_count": 5,
   "id": "80291f34-230e-45cd-b194-bf98de699888",
   "metadata": {},
   "outputs": [
    {
     "data": {
      "text/html": [
       "<div>\n",
       "<style scoped>\n",
       "    .dataframe tbody tr th:only-of-type {\n",
       "        vertical-align: middle;\n",
       "    }\n",
       "\n",
       "    .dataframe tbody tr th {\n",
       "        vertical-align: top;\n",
       "    }\n",
       "\n",
       "    .dataframe thead th {\n",
       "        text-align: right;\n",
       "    }\n",
       "</style>\n",
       "<table border=\"1\" class=\"dataframe\">\n",
       "  <thead>\n",
       "    <tr style=\"text-align: right;\">\n",
       "      <th></th>\n",
       "      <th>id</th>\n",
       "      <th>name</th>\n",
       "      <th>description</th>\n",
       "      <th>weapon</th>\n",
       "      <th>pattern</th>\n",
       "      <th>min_float</th>\n",
       "      <th>max_float</th>\n",
       "      <th>rarity</th>\n",
       "      <th>stattrak</th>\n",
       "      <th>image</th>\n",
       "    </tr>\n",
       "  </thead>\n",
       "  <tbody>\n",
       "    <tr>\n",
       "      <th>0</th>\n",
       "      <td>skin-65604</td>\n",
       "      <td>Desert Eagle | Urban DDPAT</td>\n",
       "      <td>Desert Eagle, så dyr som den er kraftfuld, er ...</td>\n",
       "      <td>Desert Eagle</td>\n",
       "      <td>Urban DDPAT</td>\n",
       "      <td>0.06</td>\n",
       "      <td>0.80</td>\n",
       "      <td>Forbrugerkvalitet</td>\n",
       "      <td>False</td>\n",
       "      <td>https://steamcdn-a.akamaihd.net/apps/730/icons...</td>\n",
       "    </tr>\n",
       "    <tr>\n",
       "      <th>1</th>\n",
       "      <td>skin-65684</td>\n",
       "      <td>Desert Eagle | Blaze</td>\n",
       "      <td>Desert Eagle, så dyr som den er kraftfuld, er ...</td>\n",
       "      <td>Desert Eagle</td>\n",
       "      <td>Blaze</td>\n",
       "      <td>0.00</td>\n",
       "      <td>0.08</td>\n",
       "      <td>Mil-spec-kvalitet</td>\n",
       "      <td>False</td>\n",
       "      <td>https://steamcdn-a.akamaihd.net/apps/730/icons...</td>\n",
       "    </tr>\n",
       "    <tr>\n",
       "      <th>2</th>\n",
       "      <td>skin-65696</td>\n",
       "      <td>Desert Eagle | Night</td>\n",
       "      <td>Desert Eagle, så dyr som den er kraftfuld, er ...</td>\n",
       "      <td>Desert Eagle</td>\n",
       "      <td>Night</td>\n",
       "      <td>0.06</td>\n",
       "      <td>0.80</td>\n",
       "      <td>Forbrugerkvalitet</td>\n",
       "      <td>False</td>\n",
       "      <td>https://steamcdn-a.akamaihd.net/apps/730/icons...</td>\n",
       "    </tr>\n",
       "    <tr>\n",
       "      <th>3</th>\n",
       "      <td>skin-65780</td>\n",
       "      <td>Desert Eagle | Hypnotic</td>\n",
       "      <td>Desert Eagle, så dyr som den er kraftfuld, er ...</td>\n",
       "      <td>Desert Eagle</td>\n",
       "      <td>Hypnotic</td>\n",
       "      <td>0.00</td>\n",
       "      <td>0.08</td>\n",
       "      <td>Begrænset</td>\n",
       "      <td>True</td>\n",
       "      <td>https://steamcdn-a.akamaihd.net/apps/730/icons...</td>\n",
       "    </tr>\n",
       "    <tr>\n",
       "      <th>4</th>\n",
       "      <td>skin-65896</td>\n",
       "      <td>Desert Eagle | Mudder</td>\n",
       "      <td>Desert Eagle, så dyr som den er kraftfuld, er ...</td>\n",
       "      <td>Desert Eagle</td>\n",
       "      <td>Mudder</td>\n",
       "      <td>0.06</td>\n",
       "      <td>0.80</td>\n",
       "      <td>Forbrugerkvalitet</td>\n",
       "      <td>False</td>\n",
       "      <td>https://steamcdn-a.akamaihd.net/apps/730/icons...</td>\n",
       "    </tr>\n",
       "    <tr>\n",
       "      <th>...</th>\n",
       "      <td>...</td>\n",
       "      <td>...</td>\n",
       "      <td>...</td>\n",
       "      <td>...</td>\n",
       "      <td>...</td>\n",
       "      <td>...</td>\n",
       "      <td>...</td>\n",
       "      <td>...</td>\n",
       "      <td>...</td>\n",
       "      <td>...</td>\n",
       "    </tr>\n",
       "    <tr>\n",
       "      <th>1708</th>\n",
       "      <td>skin-329948496</td>\n",
       "      <td>Specialisthandsker | Field Agent</td>\n",
       "      <td>Holdbar, åndbar og stilfuld. Disse handsker er...</td>\n",
       "      <td>Specialisthandsker</td>\n",
       "      <td>Field Agent</td>\n",
       "      <td>0.06</td>\n",
       "      <td>0.80</td>\n",
       "      <td>Tilsløret</td>\n",
       "      <td>False</td>\n",
       "      <td>https://steamcdn-a.akamaihd.net/apps/730/icons...</td>\n",
       "    </tr>\n",
       "    <tr>\n",
       "      <th>1709</th>\n",
       "      <td>skin-330013988</td>\n",
       "      <td>Hydra-handsker | Emerald</td>\n",
       "      <td>Disse fingerløse handsker er blevet dekoreret ...</td>\n",
       "      <td>Hydra-handsker</td>\n",
       "      <td>Emerald</td>\n",
       "      <td>0.06</td>\n",
       "      <td>0.80</td>\n",
       "      <td>Tilsløret</td>\n",
       "      <td>False</td>\n",
       "      <td>https://steamcdn-a.akamaihd.net/apps/730/icons...</td>\n",
       "    </tr>\n",
       "    <tr>\n",
       "      <th>1710</th>\n",
       "      <td>skin-330013992</td>\n",
       "      <td>Hydra-handsker | Mangrove</td>\n",
       "      <td>Disse fingerløse handsker er blevet dekoreret ...</td>\n",
       "      <td>Hydra-handsker</td>\n",
       "      <td>Mangrove</td>\n",
       "      <td>0.06</td>\n",
       "      <td>0.80</td>\n",
       "      <td>Tilsløret</td>\n",
       "      <td>False</td>\n",
       "      <td>https://steamcdn-a.akamaihd.net/apps/730/icons...</td>\n",
       "    </tr>\n",
       "    <tr>\n",
       "      <th>1711</th>\n",
       "      <td>skin-330013996</td>\n",
       "      <td>Hydra-handsker | Rattler</td>\n",
       "      <td>Disse fingerløse handsker er blevet dekoreret ...</td>\n",
       "      <td>Hydra-handsker</td>\n",
       "      <td>Rattler</td>\n",
       "      <td>0.06</td>\n",
       "      <td>0.80</td>\n",
       "      <td>Tilsløret</td>\n",
       "      <td>False</td>\n",
       "      <td>https://steamcdn-a.akamaihd.net/apps/730/icons...</td>\n",
       "    </tr>\n",
       "    <tr>\n",
       "      <th>1712</th>\n",
       "      <td>skin-330014000</td>\n",
       "      <td>Hydra-handsker | Case Hardened</td>\n",
       "      <td>Disse fingerløse handsker er blevet dekoreret ...</td>\n",
       "      <td>Hydra-handsker</td>\n",
       "      <td>Case Hardened</td>\n",
       "      <td>0.06</td>\n",
       "      <td>0.80</td>\n",
       "      <td>Tilsløret</td>\n",
       "      <td>False</td>\n",
       "      <td>https://steamcdn-a.akamaihd.net/apps/730/icons...</td>\n",
       "    </tr>\n",
       "  </tbody>\n",
       "</table>\n",
       "<p>1713 rows × 10 columns</p>\n",
       "</div>"
      ],
      "text/plain": [
       "                  id                              name  \\\n",
       "0         skin-65604        Desert Eagle | Urban DDPAT   \n",
       "1         skin-65684              Desert Eagle | Blaze   \n",
       "2         skin-65696              Desert Eagle | Night   \n",
       "3         skin-65780           Desert Eagle | Hypnotic   \n",
       "4         skin-65896             Desert Eagle | Mudder   \n",
       "...              ...                               ...   \n",
       "1708  skin-329948496  Specialisthandsker | Field Agent   \n",
       "1709  skin-330013988          Hydra-handsker | Emerald   \n",
       "1710  skin-330013992         Hydra-handsker | Mangrove   \n",
       "1711  skin-330013996          Hydra-handsker | Rattler   \n",
       "1712  skin-330014000    Hydra-handsker | Case Hardened   \n",
       "\n",
       "                                            description              weapon  \\\n",
       "0     Desert Eagle, så dyr som den er kraftfuld, er ...        Desert Eagle   \n",
       "1     Desert Eagle, så dyr som den er kraftfuld, er ...        Desert Eagle   \n",
       "2     Desert Eagle, så dyr som den er kraftfuld, er ...        Desert Eagle   \n",
       "3     Desert Eagle, så dyr som den er kraftfuld, er ...        Desert Eagle   \n",
       "4     Desert Eagle, så dyr som den er kraftfuld, er ...        Desert Eagle   \n",
       "...                                                 ...                 ...   \n",
       "1708  Holdbar, åndbar og stilfuld. Disse handsker er...  Specialisthandsker   \n",
       "1709  Disse fingerløse handsker er blevet dekoreret ...      Hydra-handsker   \n",
       "1710  Disse fingerløse handsker er blevet dekoreret ...      Hydra-handsker   \n",
       "1711  Disse fingerløse handsker er blevet dekoreret ...      Hydra-handsker   \n",
       "1712  Disse fingerløse handsker er blevet dekoreret ...      Hydra-handsker   \n",
       "\n",
       "            pattern  min_float  max_float             rarity  stattrak  \\\n",
       "0       Urban DDPAT       0.06       0.80  Forbrugerkvalitet     False   \n",
       "1             Blaze       0.00       0.08  Mil-spec-kvalitet     False   \n",
       "2             Night       0.06       0.80  Forbrugerkvalitet     False   \n",
       "3          Hypnotic       0.00       0.08          Begrænset      True   \n",
       "4            Mudder       0.06       0.80  Forbrugerkvalitet     False   \n",
       "...             ...        ...        ...                ...       ...   \n",
       "1708    Field Agent       0.06       0.80          Tilsløret     False   \n",
       "1709        Emerald       0.06       0.80          Tilsløret     False   \n",
       "1710       Mangrove       0.06       0.80          Tilsløret     False   \n",
       "1711        Rattler       0.06       0.80          Tilsløret     False   \n",
       "1712  Case Hardened       0.06       0.80          Tilsløret     False   \n",
       "\n",
       "                                                  image  \n",
       "0     https://steamcdn-a.akamaihd.net/apps/730/icons...  \n",
       "1     https://steamcdn-a.akamaihd.net/apps/730/icons...  \n",
       "2     https://steamcdn-a.akamaihd.net/apps/730/icons...  \n",
       "3     https://steamcdn-a.akamaihd.net/apps/730/icons...  \n",
       "4     https://steamcdn-a.akamaihd.net/apps/730/icons...  \n",
       "...                                                 ...  \n",
       "1708  https://steamcdn-a.akamaihd.net/apps/730/icons...  \n",
       "1709  https://steamcdn-a.akamaihd.net/apps/730/icons...  \n",
       "1710  https://steamcdn-a.akamaihd.net/apps/730/icons...  \n",
       "1711  https://steamcdn-a.akamaihd.net/apps/730/icons...  \n",
       "1712  https://steamcdn-a.akamaihd.net/apps/730/icons...  \n",
       "\n",
       "[1713 rows x 10 columns]"
      ]
     },
     "execution_count": 5,
     "metadata": {},
     "output_type": "execute_result"
    }
   ],
   "source": [
    "df"
   ]
  },
  {
   "cell_type": "markdown",
   "id": "40881aed-e11e-4f4a-b871-a92fb82f9ea1",
   "metadata": {},
   "source": [
    "Now we will try to check one of the columns "
   ]
  },
  {
   "cell_type": "code",
   "execution_count": 6,
   "id": "bc089d91-b551-478a-af19-dc8da738dc9c",
   "metadata": {},
   "outputs": [
    {
     "data": {
      "text/plain": [
       "0             Desert Eagle\n",
       "1             Desert Eagle\n",
       "2             Desert Eagle\n",
       "3             Desert Eagle\n",
       "4             Desert Eagle\n",
       "               ...        \n",
       "1708    Specialisthandsker\n",
       "1709        Hydra-handsker\n",
       "1710        Hydra-handsker\n",
       "1711        Hydra-handsker\n",
       "1712        Hydra-handsker\n",
       "Name: weapon, Length: 1713, dtype: object"
      ]
     },
     "execution_count": 6,
     "metadata": {},
     "output_type": "execute_result"
    }
   ],
   "source": [
    "df['weapon']"
   ]
  },
  {
   "cell_type": "markdown",
   "id": "1f51bf0b-c804-436a-816a-1b8155eceebc",
   "metadata": {},
   "source": [
    "We can see that there is more weapons with the same name in a row. And we will try to find all the unique weapon names"
   ]
  },
  {
   "cell_type": "code",
   "execution_count": 7,
   "id": "8b5e7f2a-fe94-495f-abb5-37bbc0028356",
   "metadata": {},
   "outputs": [],
   "source": [
    "unique_weapons = df['weapon'].unique()"
   ]
  },
  {
   "cell_type": "code",
   "execution_count": 9,
   "id": "c500a15c-25b4-4a38-b42a-4d9119400e35",
   "metadata": {},
   "outputs": [
    {
     "name": "stdout",
     "output_type": "stream",
     "text": [
      "['Desert Eagle' 'Dual Berettas' 'Five-SeveN' 'Glock-18' 'AK-47' 'AUG'\n",
      " 'AWP' 'FAMAS' 'G3SG1' 'Galil AR' 'M249' 'M4A4' 'MAC-10' 'P90' 'MP5-SD'\n",
      " 'UMP-45' 'XM1014' 'PP-Bizon' 'MAG-7' 'Negev' 'Sawed-off' 'Tec-9' 'P2000'\n",
      " 'MP7' 'MP9' 'Nova' 'P250' 'SCAR-20' 'SG 553' 'SSG 08' 'USP-S' 'CZ75-Auto'\n",
      " 'R8-revolver' 'Bajonet' 'Klassisk kniv' 'Foldekniv' 'Jagtkniv' 'Karambit'\n",
      " 'M9-bajonet' 'Huntsman-kniv' 'Falchion-kniv' 'Bowie-kniv'\n",
      " 'Butterfly-kniv' 'Shadow-daggerter' 'Paracordkniv' 'Overlevelseskniv'\n",
      " 'Ursus-kniv' 'Navaja-kniv' 'Nomadekniv' 'Stiletto-kniv' 'Talon-kniv'\n",
      " 'Skeletkniv' 'Broken Fang Gloves' 'Bloodhound-handsker' 'Sportshandsker'\n",
      " 'Kørehandsker' 'Håndbind' 'Motorcykelhandsker' 'Specialisthandsker'\n",
      " 'Hydra-handsker']\n"
     ]
    }
   ],
   "source": [
    "print(unique_weapons)"
   ]
  },
  {
   "cell_type": "markdown",
   "id": "2f544c1e-ae7f-409f-bb21-9e68c5f64639",
   "metadata": {},
   "source": [
    "We will now check the data's info, to see what types each column holds"
   ]
  },
  {
   "cell_type": "code",
   "execution_count": 10,
   "id": "0b689ba1-a27b-4d1b-a244-df651d557d8d",
   "metadata": {},
   "outputs": [
    {
     "name": "stdout",
     "output_type": "stream",
     "text": [
      "<class 'pandas.core.frame.DataFrame'>\n",
      "RangeIndex: 1713 entries, 0 to 1712\n",
      "Data columns (total 10 columns):\n",
      " #   Column       Non-Null Count  Dtype  \n",
      "---  ------       --------------  -----  \n",
      " 0   id           1713 non-null   object \n",
      " 1   name         1713 non-null   object \n",
      " 2   description  1713 non-null   object \n",
      " 3   weapon       1713 non-null   object \n",
      " 4   pattern      1713 non-null   object \n",
      " 5   min_float    1713 non-null   float64\n",
      " 6   max_float    1713 non-null   float64\n",
      " 7   rarity       1713 non-null   object \n",
      " 8   stattrak     1713 non-null   bool   \n",
      " 9   image        1713 non-null   object \n",
      "dtypes: bool(1), float64(2), object(7)\n",
      "memory usage: 122.2+ KB\n"
     ]
    }
   ],
   "source": [
    "df.info()"
   ]
  },
  {
   "cell_type": "markdown",
   "id": "fe38b3cd-b0be-4987-a498-c05208d5154d",
   "metadata": {},
   "source": [
    "There is none null values in our dataset, so that is less cleaning"
   ]
  },
  {
   "cell_type": "code",
   "execution_count": 11,
   "id": "ba360520-e5ea-4dd4-9bd6-82cb7c799884",
   "metadata": {},
   "outputs": [
    {
     "data": {
      "text/plain": [
       "id             0\n",
       "name           0\n",
       "description    0\n",
       "weapon         0\n",
       "pattern        0\n",
       "min_float      0\n",
       "max_float      0\n",
       "rarity         0\n",
       "stattrak       0\n",
       "image          0\n",
       "dtype: int64"
      ]
     },
     "execution_count": 11,
     "metadata": {},
     "output_type": "execute_result"
    }
   ],
   "source": [
    "df.isna().sum()"
   ]
  },
  {
   "cell_type": "markdown",
   "id": "e23f3833-dd0b-4dac-a4c5-e9e2c7d9ebf7",
   "metadata": {},
   "source": [
    "Filters the DataFrame to return skins that match the given rarity.\n",
    "The search is case-insensitive."
   ]
  },
  {
   "cell_type": "code",
   "execution_count": 12,
   "id": "eb7dfaa9-ed88-4656-8e57-de0f3a7877c3",
   "metadata": {},
   "outputs": [],
   "source": [
    "def filter_by_rarity(df, rarity_name):\n",
    "    return df[df['rarity'].str.lower() == rarity_name.lower()]"
   ]
  },
  {
   "cell_type": "markdown",
   "id": "d7d51243-33b9-4113-8421-7ccb2cf1681f",
   "metadata": {},
   "source": [
    " Show only name and rarity for readability"
   ]
  },
  {
   "cell_type": "code",
   "execution_count": 13,
   "id": "9b07172d-c66e-4114-8d22-0dd827086e64",
   "metadata": {},
   "outputs": [
    {
     "name": "stdout",
     "output_type": "stream",
     "text": [
      "                                  name        weapon     rarity\n",
      "3              Desert Eagle | Hypnotic  Desert Eagle  Begrænset\n",
      "6     Desert Eagle | Cobalt Disruption  Desert Eagle  Begrænset\n",
      "13           Desert Eagle | Conspiracy  Desert Eagle  Begrænset\n",
      "20       Desert Eagle | Kumicho Dragon  Desert Eagle  Begrænset\n",
      "25           Desert Eagle | Fennec Fox  Desert Eagle  Begrænset\n",
      "...                                ...           ...        ...\n",
      "1624              Talon-kniv | Doppler    Talon-kniv  Begrænset\n",
      "1625              Talon-kniv | Doppler    Talon-kniv  Begrænset\n",
      "1626              Talon-kniv | Doppler    Talon-kniv  Begrænset\n",
      "1628       Talon-kniv | Damascus Steel    Talon-kniv  Begrænset\n",
      "1634        Skeletkniv | Case Hardened    Skeletkniv  Begrænset\n",
      "\n",
      "[391 rows x 3 columns]\n"
     ]
    }
   ],
   "source": [
    "rare_skins = filter_by_rarity(df, \"Begrænset\")\n",
    "print(rare_skins[['name', 'weapon', 'rarity']])"
   ]
  },
  {
   "cell_type": "code",
   "execution_count": null,
   "id": "7cc10918-17ee-4b9d-8d59-96a120a35ec6",
   "metadata": {},
   "outputs": [],
   "source": []
  }
 ],
 "metadata": {
  "kernelspec": {
   "display_name": "Python 3 (ipykernel)",
   "language": "python",
   "name": "python3"
  },
  "language_info": {
   "codemirror_mode": {
    "name": "ipython",
    "version": 3
   },
   "file_extension": ".py",
   "mimetype": "text/x-python",
   "name": "python",
   "nbconvert_exporter": "python",
   "pygments_lexer": "ipython3",
   "version": "3.12.7"
  }
 },
 "nbformat": 4,
 "nbformat_minor": 5
}
